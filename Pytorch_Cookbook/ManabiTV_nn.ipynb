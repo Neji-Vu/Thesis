{
 "cells": [
  {
   "cell_type": "code",
   "execution_count": null,
   "metadata": {},
   "outputs": [],
   "source": [
    "import torch\n",
    "import torch.nn as nn\n",
    "import torch.nn.functional as F\n",
    "\n",
    "class Net(nn.Module):\n",
    "\tdef __init__(self):\n",
    "\t\tsuper(Net, self).__init__() # call the constructor of the daddy class\n",
    "\t\tself.conv1 = nn.Conv2d(1, 6, 3) # input channel, output channel, stride\n",
    "\t\tself.conv2 = nn.Conv2d(6, 16, 3)\n",
    "\t\tself.fc1 = nn.Linear(16*6*6, 120) #fully connected linear layers\n",
    "\t\tself.fc2 = nn.Linear(120, 84)\n",
    "\t\tself.fc2 = nn.Linear(84, 10)"
   ]
  },
  {
   "cell_type": "code",
   "execution_count": 10,
   "metadata": {},
   "outputs": [
    {
     "name": "stdout",
     "output_type": "stream",
     "text": [
      "tensor([[1, 2, 3],\n",
      "        [4, 5, 6]])\n"
     ]
    },
    {
     "data": {
      "text/plain": [
       " 1\n",
       " 2\n",
       " 3\n",
       " 4\n",
       " 5\n",
       " 6\n",
       "[torch.storage._TypedStorage(dtype=torch.int64, device=cpu) of size 6]"
      ]
     },
     "execution_count": 10,
     "metadata": {},
     "output_type": "execute_result"
    }
   ],
   "source": [
    "import torch\n",
    "\n",
    "x = torch.tensor([[1,2,3], [4,5,6]])\n",
    "print(x)\n",
    "x.storage()[5]"
   ]
  }
 ],
 "metadata": {
  "kernelspec": {
   "display_name": "Python 3.10.2 64-bit (system)",
   "language": "python",
   "name": "python3"
  },
  "language_info": {
   "codemirror_mode": {
    "name": "ipython",
    "version": 3
   },
   "file_extension": ".py",
   "mimetype": "text/x-python",
   "name": "python",
   "nbconvert_exporter": "python",
   "pygments_lexer": "ipython3",
   "version": "3.10.2"
  },
  "orig_nbformat": 4,
  "vscode": {
   "interpreter": {
    "hash": "d533614f4d57ff4a1b942d0131a5a6cbb98dc8aa993cf976d4f887313b883c27"
   }
  }
 },
 "nbformat": 4,
 "nbformat_minor": 2
}
