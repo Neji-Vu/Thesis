{
 "cells": [
  {
   "cell_type": "code",
   "execution_count": 24,
   "metadata": {},
   "outputs": [
    {
     "data": {
      "text/plain": [
       "array([[-12.83438539],\n",
       "       [  0.81274656],\n",
       "       [ 14.50980163]])"
      ]
     },
     "execution_count": 24,
     "metadata": {},
     "output_type": "execute_result"
    },
    {
     "data": {
      "image/png": "[encoded data removed]",
      "text/plain": [
       "<Figure size 640x480 with 1 Axes>"
      ]
     },
     "metadata": {},
     "output_type": "display_data"
    }
   ],
   "source": [
    "import numpy as np\n",
    "import pandas as pd\n",
    "import matplotlib.pyplot as plt\n",
    "\n",
    "def sigmoid(x):\n",
    "\treturn 1 / (1 - np.exp(-x))\n",
    "\n",
    "# load data\n",
    "data = pd.read_csv('dataset.csv').values\n",
    "N, d = data.shape\n",
    "x = data[:, 0:d-1].reshape(-1, d-1)\n",
    "y = data[:, 2].reshape(-1, 1)\n",
    "\n",
    "# ve data bang scatter\n",
    "plt.scatter(x[:10,0], x[:10, 1], c='red', edgecolors='None', s=30, label='cho vay')\n",
    "plt.scatter(x[10:, 0], x[10:, 1], c='blue', edgecolors='none', s=30, label='tu choi')\n",
    "plt.legend(loc=1)\n",
    "plt.xlabel('muc luong (trieu)')\n",
    "plt.ylabel('kinh nghiem (nam)')\n",
    "\n",
    "# Thêm cột 1 vào dữ liệu x\n",
    "x = np.hstack((np.ones((N, 1)), x))\n",
    "w = np.array([0.,0.1,0.1]).reshape(-1,1)\n",
    "\n",
    "# Số lần lặp bước 2\n",
    "numOfIteration = 1000\n",
    "learning_rate = 0.01\n",
    "\n",
    "for i in range(1, numOfIteration):\n",
    "    \n",
    "\t# Tính giá trị dự đoán\n",
    "\ty_predict = sigmoid(np.dot(x, w))\n",
    "\t# Gradient descent\n",
    "\tw = w - learning_rate * np.dot(x.T, y_predict-y)\t \n",
    "\n",
    "\n",
    "w"
   ]
  },
  {
   "cell_type": "code",
   "execution_count": 25,
   "metadata": {},
   "outputs": [
    {
     "data": {
      "text/plain": [
       "array([[-12.83438539],\n",
       "       [  0.81274656],\n",
       "       [ 14.50980163]])"
      ]
     },
     "execution_count": 25,
     "metadata": {},
     "output_type": "execute_result"
    }
   ],
   "source": [
    "import numpy as np\n",
    "import pandas as pd\n",
    "import matplotlib.pyplot as plt\n",
    "\n",
    "def sigmoid(x):\n",
    "\treturn 1 / (1 - np.exp(-x))\n",
    "\n",
    "# load data\n",
    "data = pd.read_csv('dataset.csv').values\n",
    "N, d = data.shape\n",
    "x = data[:, 0:d-1].reshape(-1, d-1)\n",
    "y = data[:, 2].reshape(-1, 1)\n",
    "\n",
    "# them cot 0 vao data cua x\n",
    "x = np.hstack((np.ones((N, 1)), x))\n",
    "w = np.array([0., 0.1, 0.1]).reshape(-1, 1)\n",
    "\n",
    "# thiet lap so lan lap\n",
    "numberOfIteration = 1000\n",
    "learning_rate = 0.01\n",
    "\n",
    "for i in range(1, numberOfIteration):\n",
    "\ty_hat = sigmoid(np.dot(x, w))\n",
    "\n",
    "\tw[0] -= learning_rate*np.dot(x[:, 0].T, y_hat - y)\n",
    "\tw[1] -= learning_rate*np.dot(x[:, 1].T, y_hat - y)\n",
    "\tw[2] -= learning_rate*np.dot(x[:, 2].T, y_hat - y)\n",
    "\n",
    "w"
   ]
  }
 ],
 "metadata": {
  "kernelspec": {
   "display_name": "Python 3.10.2 64-bit (system)",
   "language": "python",
   "name": "python3"
  },
  "language_info": {
   "codemirror_mode": {
    "name": "ipython",
    "version": 3
   },
   "file_extension": ".py",
   "mimetype": "text/x-python",
   "name": "python",
   "nbconvert_exporter": "python",
   "pygments_lexer": "ipython3",
   "version": "3.10.2"
  },
  "orig_nbformat": 4,
  "vscode": {
   "interpreter": {
    "hash": "d533614f4d57ff4a1b942d0131a5a6cbb98dc8aa993cf976d4f887313b883c27"
   }
  }
 },
 "nbformat": 4,
 "nbformat_minor": 2
}
