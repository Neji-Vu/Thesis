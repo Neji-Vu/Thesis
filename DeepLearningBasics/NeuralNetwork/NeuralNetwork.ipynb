{
 "cells": [
  {
   "cell_type": "code",
   "execution_count": null,
   "metadata": {},
   "outputs": [],
   "source": [
    "import numpy as np\n",
    "import pandas as pd\n",
    "\n",
    "# Hàm sigmoid\n",
    "def sigmoid(x):\n",
    "\treturn 1/(1+np.exp(-x))\n",
    "\n",
    "# Dao ham sigmoid\n",
    "def sigmoid_derivative(x):\n",
    "\treturn x*(1-x)\n",
    "\n",
    "# class neural network\n",
    "class NeuralNetwork:\n",
    "\tdef __init__(self, layers, alpha=0.1):\n",
    "\t\t# Mo hinh layer vi du [2, 2, 1]\n",
    "\t\tself.layers = layers\n",
    "\n",
    "\t\t# He so learning rate\n",
    "\t\tself.alpha = alpha\n",
    "\n",
    "\t\t# Tham so W, b\n",
    "\t\tself.W = []\n",
    "\t\tself.b = []\n",
    "\n",
    "\t\t# Khoi tao cac tham so o moi layer\n",
    "\t\tfor i in range(0, len(layers)-1):\n",
    "\t\t\tw_ = np.random.randn(layers[i, layers[i+1]])\n",
    "\t\t\tb_ = np.zeros((layers[i+1], 1))\n",
    "\t\t\tself.W.append(w_/layers[i])\n",
    "\t\t\tself.b.append(b_)\n",
    "\n",
    "\t\t\n"
   ]
  }
 ],
 "metadata": {
  "kernelspec": {
   "display_name": "Python 3.10.2 64-bit (system)",
   "language": "python",
   "name": "python3"
  },
  "language_info": {
   "name": "python",
   "version": "3.10.2"
  },
  "orig_nbformat": 4,
  "vscode": {
   "interpreter": {
    "hash": "d533614f4d57ff4a1b942d0131a5a6cbb98dc8aa993cf976d4f887313b883c27"
   }
  }
 },
 "nbformat": 4,
 "nbformat_minor": 2
}
